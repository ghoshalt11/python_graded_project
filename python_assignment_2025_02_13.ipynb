{
 "cells": [
  {
   "cell_type": "code",
   "execution_count": 6,
   "id": "2a4dff1a-8357-4eb0-b340-83768de095e3",
   "metadata": {},
   "outputs": [
    {
     "name": "stdin",
     "output_type": "stream",
     "text": [
      "input for category A units sold : 150\n",
      "input for category B units sold : 120\n"
     ]
    },
    {
     "name": "stdout",
     "output_type": "stream",
     "text": [
      "\n",
      "Sales Data Summary:\n",
      "Total Units Sold: 270\n",
      "Difference Between Categories: 30\n",
      "Ratio of Category A to Category B: 1.25\n"
     ]
    }
   ],
   "source": [
    "#Task 1 Sales Data Summary\n",
    "A=int(input('input for category A units sold :'))  # user input for category A units sold\n",
    "B=int(input('input for category B units sold :'))  # user input for category B units sold\n",
    "print('\\nSales Data Summary:')\n",
    "print(f'Total Units Sold: {A+B}')\n",
    "print(f'Difference Between Categories: {abs(A-B)}')\n",
    "print(f'Ratio of Category A to Category B: {round(A/B,2)}')\n",
    "            "
   ]
  },
  {
   "cell_type": "code",
   "execution_count": 9,
   "id": "065cf7a1-3eef-416b-a106-9221f87cce3b",
   "metadata": {},
   "outputs": [
    {
     "name": "stdin",
     "output_type": "stream",
     "text": [
      "Customer Name: Tom Cruise\n",
      "Customer Age: 56\n"
     ]
    },
    {
     "name": "stdout",
     "output_type": "stream",
     "text": [
      "\n",
      "Dear Tom Cruise, at 56, you’re eligible for our premium loyalty program.\n"
     ]
    }
   ],
   "source": [
    "#Task 2: Customer Age Data\n",
    "name= input('Customer Name:')  \n",
    "age= input('Customer Age:')  \n",
    "print(f'\\nDear {name}, at {age}, you’re eligible for our premium loyalty program.')"
   ]
  },
  {
   "cell_type": "code",
   "execution_count": 14,
   "id": "d3cb721f-2ccc-462e-b879-fbd65be06485",
   "metadata": {},
   "outputs": [
    {
     "name": "stdout",
     "output_type": "stream",
     "text": [
      "Highest Price: 200\n",
      "Lowest Price: 30\n",
      "Mid-Range Products: [50, 120, 90, 150, 180]\n",
      "Updated Product List with Premium Price: [50, 120, 30, 200, 90, 150, 180, 250]\n"
     ]
    }
   ],
   "source": [
    "#Task 3 Product List Management\n",
    "product_prices = [50, 120, 30, 200, 90, 150, 180] \n",
    "premium_price = 250\n",
    "max_price=max(product_prices) #extracting the highest and lowest prices.\n",
    "min_price=min(product_prices)\n",
    "\n",
    "mid_range=[] # new list for mid range products\n",
    "\n",
    "for p in product_prices:\n",
    "    if p!=max_price and p!=min_price:\n",
    "        mid_range.append(p)\n",
    "\n",
    "product_prices.append(premium_price)\n",
    "\n",
    "print(f'Highest Price: {max_price}')\n",
    "print(f'Lowest Price: {min_price}')\n",
    "print(f'Mid-Range Products: {mid_range}')\n",
    "print(f'Updated Product List with Premium Price: {product_prices}')"
   ]
  },
  {
   "cell_type": "code",
   "execution_count": 24,
   "id": "96319cc8-23f0-4e18-b1bf-ae398abc8b70",
   "metadata": {},
   "outputs": [
    {
     "name": "stdout",
     "output_type": "stream",
     "text": [
      "Product Name: Wireless Mouse   Product SKU: WM-12347     Product Brand: Logitech\n"
     ]
    }
   ],
   "source": [
    "#Task 4: Inventory Lookup\n",
    "\n",
    "#taking input as product_info\n",
    "product_info = { \"product_name\": \"Wireless Mouse\", \"SKU\": \"WM-12347\", \"price\": 35.99, \"category\": \"Electronics\",\"brand\":\"Logitech\" }\n",
    "\n",
    "print(f'Product Name: {product_info['product_name']}   Product SKU: {product_info['SKU']}     Product Brand: {product_info['brand']}')\n"
   ]
  },
  {
   "cell_type": "code",
   "execution_count": 31,
   "id": "9b261ced-5869-40d9-932a-cc2495c9298e",
   "metadata": {},
   "outputs": [
    {
     "name": "stdin",
     "output_type": "stream",
     "text": [
      "Enter stock level: 23\n"
     ]
    },
    {
     "name": "stdout",
     "output_type": "stream",
     "text": [
      "Reorder Now.\n"
     ]
    }
   ],
   "source": [
    "#Task 5 Stock Level Alert System\n",
    "stock_level=int(input(\"Enter stock level:\")) # code taking user input stock level\n",
    "threshold=35\n",
    "\n",
    "if stock_level>=threshold:\n",
    "    print(f'Stock is sufficient.')\n",
    "else:\n",
    "    print(f'Reorder Now.')\n",
    "    \n",
    "    "
   ]
  },
  {
   "cell_type": "code",
   "execution_count": 37,
   "id": "92894f41-3f6d-48da-93bd-56406b647e8f",
   "metadata": {},
   "outputs": [
    {
     "name": "stdout",
     "output_type": "stream",
     "text": [
      "LAPTOP\n",
      "MOUSE\n",
      "KEYBOARD\n",
      "MONITOR\n",
      "PRINTER\n",
      "LAPTOP\n",
      "MOUSE\n",
      "KEYBOARD\n",
      "MONITOR\n",
      "PRINTER\n"
     ]
    }
   ],
   "source": [
    "#Task 6: Sales Report Formatting\n",
    "products_sold = [\"laptop\", \"mouse\", \"keyboard\", \"monitor\", \"printer\"]\n",
    "# implementing For Loop\n",
    "for product in products_sold:\n",
    "    print(product.upper())\n",
    "\n",
    "# implementing While Loop\n",
    "cnt=0\n",
    "N=len(products_sold)\n",
    "while(cnt<N):\n",
    "    print(products_sold[cnt].upper())\n",
    "    cnt=cnt+1\n"
   ]
  },
  {
   "cell_type": "code",
   "execution_count": 6,
   "id": "65bc2491-39c4-426e-a397-c83ae0908f8f",
   "metadata": {},
   "outputs": [
    {
     "name": "stdout",
     "output_type": "stream",
     "text": [
      "The area of section 1 is 336 square meters.\n"
     ]
    }
   ],
   "source": [
    "#Task 7: Area Calculation for Store Layout\n",
    "\n",
    "\n",
    "# Defining Main function\n",
    "def main():\n",
    "    length1 = 21\n",
    "    width1 = 16\n",
    "    calculate_area = lambda length, width: length * width      # Lambda function to calculate area\n",
    "    print(f'The area of section 1 is {calculate_area(length1, width1)} square meters.')\n",
    "\n",
    "  # Calling main function\n",
    "main()"
   ]
  },
  {
   "cell_type": "code",
   "execution_count": 51,
   "id": "a336ed5f-d701-4046-88dd-2a0d003474fc",
   "metadata": {},
   "outputs": [
    {
     "name": "stdout",
     "output_type": "stream",
     "text": [
      "Customer Feedback Analysis:\n",
      "Original Feedback: Pizza delivery was quick and fast with minimal calling! \n",
      "Number of Vowels: 16\n",
      "Reversed Feedback:!gnillac laminim htiw tsaf dna kciuq saw yreviled azziP\n"
     ]
    }
   ],
   "source": [
    "#Task 8: Customer Feedback Analysis\n",
    "\n",
    "customer_feedback='Pizza delivery was quick and fast with minimal calling!'\n",
    "vowels={'a','e','i','o','u'}\n",
    "vowels_cnt=0\n",
    "\n",
    "#using for loop to traverse each character in the feedback message string and checking if vowel or not\n",
    "for ch in customer_feedback:\n",
    "    if ch.lower() in vowels:\n",
    "        vowels_cnt=vowels_cnt+1\n",
    "        \n",
    "print(f'Customer Feedback Analysis:\\nOriginal Feedback: {customer_feedback} \\nNumber of Vowels: {vowels_cnt}\\nReversed Feedback:{customer_feedback[::-1]}')\n"
   ]
  },
  {
   "cell_type": "code",
   "execution_count": 5,
   "id": "867681c8-2ec3-461d-b1d8-b54f6c31c66b",
   "metadata": {},
   "outputs": [
    {
     "name": "stdout",
     "output_type": "stream",
     "text": [
      "Products eligible for the discount campaign: [66, 99, 47]\n"
     ]
    }
   ],
   "source": [
    "#Task 9: Price Filtering Tool\n",
    "product_prices = [150, 66, 99, 111, 47, 200] # sample input \n",
    "Discount_Threshold= 100\n",
    "eligible_products= [p for p in product_prices if p < Discount_Threshold] # list comprehension to identify eligible products below a threshold\n",
    "print(f'Products eligible for the discount campaign: {eligible_products}')"
   ]
  },
  {
   "cell_type": "code",
   "execution_count": 42,
   "id": "fa833cd2-afc8-4f58-855c-236a8fa23e90",
   "metadata": {},
   "outputs": [
    {
     "name": "stdout",
     "output_type": "stream",
     "text": [
      "Content of sales_log.txt:\n",
      "Total sales today: $12378.00.\n",
      "Number of transactions: 124.\n"
     ]
    }
   ],
   "source": [
    "#Task 10: Sales Log File Management\n",
    "\n",
    "file_name='sales_log.txt'\n",
    "\n",
    "sales=12378\n",
    "transactions=124\n",
    "\n",
    "# opening file for writing\n",
    "with open (file_name,'w') as file: # Creating a text file named `sales_log.txt` to store daily sales summaries\n",
    "    file.write(f'Total sales today: ${sales:.2f}.\\nNumber of transactions: {transactions}.')\n",
    "   \n",
    "file.close()\n",
    "\n",
    "# opening file for reading\n",
    "with open (file_name,'r') as file: # reading text file named `sales_log.txt` to read daily sales summary lines\n",
    "    content=file.read().splitlines()\n",
    "file.close()\n",
    "\n",
    "print(f'Content of {file_name}:')\n",
    "for line in content:\n",
    "    print(line)\n",
    "    "
   ]
  },
  {
   "cell_type": "code",
   "execution_count": 41,
   "id": "5b8d71c9-0c56-4f83-bfa6-e38dc63f9573",
   "metadata": {},
   "outputs": [
    {
     "name": "stdout",
     "output_type": "stream",
     "text": [
      "Average Daily Sales for the Past Week: $1412.5\n"
     ]
    }
   ],
   "source": [
    "# Task 11: Daily Sales Average\n",
    "daily_sales = [1200, 1500, 1100, 1800, 1700, 1600, 1400, 1000]\n",
    "sum_sales=0\n",
    "for sales in daily_sales:\n",
    "    sum_sales=sales+sum_sales # calculating sum of all sales\n",
    "    \n",
    "print(f'Average Daily Sales for the Past Week: ${round(sum_sales/len(daily_sales),2)}') # printing average of sales\n",
    "    "
   ]
  },
  {
   "cell_type": "code",
   "execution_count": 31,
   "id": "86472236-92d6-41ab-b3fd-f8a970bba98c",
   "metadata": {},
   "outputs": [
    {
     "name": "stdout",
     "output_type": "stream",
     "text": [
      "Customer Spending Categories:\n",
      "Customer 1: Spending = $200 -> Category: Low\n",
      "Customer 2: Spending = $800 -> Category: Medium\n",
      "Customer 3: Spending = $1500 -> Category: High\n",
      "Customer 4: Spending = $3000 -> Category: High\n",
      "Customer 5: Spending = $450 -> Category: Low\n",
      "Customer 6: Spending = $1200 -> Category: Medium\n"
     ]
    }
   ],
   "source": [
    "# Task 12: Customer Segmentation\n",
    "customer_spendings= [200, 800, 1500, 3000, 450, 1200] \n",
    "print(f'Customer Spending Categories:')\n",
    "\n",
    "for i in range(len(customer_spendings)): # Using for loop\n",
    "    if customer_spendings[i]<500:\n",
    "        print(f'Customer {i+1}: Spending = ${customer_spendings[i]} -> Category: Low')\n",
    "        \n",
    "    elif customer_spendings[i]>=500 and customer_spendings[i]<1500:\n",
    "        print(f'Customer {i+1}: Spending = ${customer_spendings[i]} -> Category: Medium')\n",
    "        \n",
    "    else:\n",
    "        print(f'Customer {i+1}: Spending = ${customer_spendings[i]} -> Category: High')\n",
    "        \n"
   ]
  },
  {
   "cell_type": "code",
   "execution_count": 38,
   "id": "87eec9c5-04df-4f05-a100-2d454fbf0b25",
   "metadata": {},
   "outputs": [
    {
     "name": "stdout",
     "output_type": "stream",
     "text": [
      "Final Prices After Discounts:\n",
      " Product 1: Original Price = $100, Discount = 10%, Final Price = $90.00\n",
      " Product 2: Original Price = $250, Discount = 20%, Final Price = $200.00\n",
      " Product 3: Original Price = $75, Discount = 15%, Final Price = $63.75\n",
      " Product 4: Original Price = $150, Discount = 5%, Final Price = $142.50\n"
     ]
    }
   ],
   "source": [
    "# Task 13: Discount Calculation\n",
    "\n",
    "# Sample input list\n",
    "products = [ {\"name\": \"Product A\", \"original_price\": 100, \"discount_percentage\": 10}, {\"name\": \"Product B\", \"original_price\": 250, \"discount_percentage\": 20}, {\"name\": \"Product C\", \"original_price\": 75, \"discount_percentage\": 15}, {\"name\": \"Product D\", \"original_price\": 150, \"discount_percentage\": 5} ]\n",
    "\n",
    "print(f'Final Prices After Discounts:')\n",
    "\n",
    "final_price = lambda price, discount: round(price * (1 - discount / 100), 2) # lambda function to calculate final discounted price \n",
    "\n",
    "for i in range(len(products)):\n",
    "    \n",
    "    final_value=final_price(products[i]['original_price'], products[i]['discount_percentage'])\n",
    "        \n",
    "    print(f' Product {i+1}: Original Price = ${products[i]['original_price']}, Discount = {products[i]['discount_percentage']}%, Final Price = ${final_value:.2f}')\n",
    "    "
   ]
  },
  {
   "cell_type": "code",
   "execution_count": 15,
   "id": "66ad39eb-0983-498b-8666-5f78e39c93b1",
   "metadata": {},
   "outputs": [
    {
     "name": "stdout",
     "output_type": "stream",
     "text": [
      "Customer Feedback Sentiment: Negative\n"
     ]
    }
   ],
   "source": [
    "# Task 14: Customer Feedback Sentiment Analysis\n",
    "cust_feedback='I am not happy with the service. It was a terrible experience!'\n",
    "positive_words = ['good', 'happy', 'excellent', 'great']\n",
    "negative_words = ['bad', 'disappointed', 'poor', 'terrible']\n",
    "\n",
    "for word in positive_words:\n",
    "    if word in cust_feedback:\n",
    "        sentiment='Positive'\n",
    "\n",
    "for word in negative_words:\n",
    "    if word in cust_feedback:\n",
    "        sentiment='Negative'\n",
    "\n",
    "print(f'Customer Feedback Sentiment: {sentiment}')"
   ]
  },
  {
   "cell_type": "code",
   "execution_count": 16,
   "id": "84546da9-2fb6-480d-b3bc-de3ece7669dc",
   "metadata": {},
   "outputs": [
    {
     "name": "stdout",
     "output_type": "stream",
     "text": [
      "Updated Salaries After Increment:\n",
      "Trisha: Current Salary = $59000, Rating = Excellent, Updated Salary = $70800.00\n",
      "Bob: Current Salary = $40000, Rating = Good, Updated Salary = $46000.00\n",
      "Charlie: Current Salary = $45000, Rating = Average, Updated Salary = $49500.00\n",
      "David: Current Salary = $35000, Rating = Poor, Updated Salary = $36750.00\n"
     ]
    }
   ],
   "source": [
    "# Task 15: Employee Salary Increment Calculator\n",
    "employees = {\"Trisha\": {\"current_salary\": 59000, \"rating\": \"Excellent\"}, \n",
    "               \"Bob\":  {\"current_salary\": 40000, \"rating\": \"Good\"}, \n",
    "               \"Charlie\": {\"current_salary\": 45000, \"rating\": \"Average\"}, \n",
    "               \"David\": {\"current_salary\": 35000, \"rating\": \"Poor\"}\n",
    "            }\n",
    "\n",
    "increments = {\"Excellent\": 20, \"Good\": 15, \"Average\": 10, \"Poor\": 5}\n",
    "\n",
    "updated_salary = lambda sal, increment: round(sal * (1 + increment / 100), 2) # lambda function to calculate upgraded salary\n",
    "print(f'Updated Salaries After Increment:')\n",
    "\n",
    "       \n",
    "for emp in employees:\n",
    "    \n",
    "    final_salary=updated_salary(employees[emp]['current_salary'], increments[employees[emp]['rating']]) # for each employee calculating updated salary\n",
    "    \n",
    "    print(f'{emp}: Current Salary = ${employees[emp]['current_salary']}, Rating = {employees[emp]['rating']}, Updated Salary = ${final_salary:.2f}')\n",
    "    "
   ]
  },
  {
   "cell_type": "code",
   "execution_count": 39,
   "id": "75cba745-c59e-4656-a64a-7087f12bec30",
   "metadata": {},
   "outputs": [
    {
     "name": "stdout",
     "output_type": "stream",
     "text": [
      "Monthly Sales Report\n",
      "--------------------\n",
      "Total Sales:$10200     Average Daily Sales:$340.0\n"
     ]
    }
   ],
   "source": [
    "# Task 16: Monthly Sales Report Generator\n",
    "daily_sales = [ 100, 250, 300, 400, 350, 500, 450, 300, 250, 400, 200, 300, 450, 500, 400, 250, 350, 300, 450, 400, 250, 300, 200, 400, 350, 300, 500, 450, 300, 250 ]\n",
    "\n",
    "with open('monthly_report.txt','w') as file:          # writing on file - Monthly sales after calculating Total sales & Average sales\n",
    "    file.write(f'Monthly Sales Report\\n--------------------\\nTotal Sales:${sum(daily_sales)}     Average Daily Sales:${round(sum(daily_sales)/len(daily_sales),2)}')\n",
    "file.close()\n",
    "\n",
    "with open('monthly_report.txt','r') as file:\n",
    "    content=file.read().splitlines()\n",
    "\n",
    "for line in content:\n",
    "    print(line)"
   ]
  },
  {
   "cell_type": "code",
   "execution_count": 33,
   "id": "2511b846-0b92-4185-b785-8c2fa68addbf",
   "metadata": {},
   "outputs": [
    {
     "name": "stdout",
     "output_type": "stream",
     "text": [
      "Products that need replenishment:\n",
      "Product A\n",
      "Product C\n",
      "Product E\n"
     ]
    }
   ],
   "source": [
    "# Task 17: Stock Replenishment Planning\n",
    "products = [ {\"product_name\": \"Product A\", \"stock\": 50}, \n",
    "            {\"product_name\": \"Product B\", \"stock\": 150}, \n",
    "            {\"product_name\": \"Product C\", \"stock\": 30}, \n",
    "            {\"product_name\": \"Product D\", \"stock\": 75}, \n",
    "            {\"product_name\": \"Product E\", \"stock\": 20} ] # sample input list of products\n",
    "\n",
    "threshold = 55\n",
    "\n",
    "print(f'Products that need replenishment:')\n",
    "for prod in products:              # for each list items of products list, checking stock value with threshold\n",
    "    if prod['stock']<threshold:\n",
    "        print(prod['product_name'])  # printing names products which need replenishment\n"
   ]
  },
  {
   "cell_type": "code",
   "execution_count": 43,
   "id": "f3ee47c3-27a0-4e96-94c9-4c8537b2625e",
   "metadata": {},
   "outputs": [
    {
     "name": "stdout",
     "output_type": "stream",
     "text": [
      "Cleaned Customer Names for Database Entry:\n",
      "Trisha\n",
      "John Doe\n",
      "Mary Smith\n",
      "Alice Johnson\n",
      "Bob White\n"
     ]
    }
   ],
   "source": [
    "# Task 18: Data Cleaning Utility\n",
    "\n",
    "customer_names = [ 'trIsHa  ', ' jOhn doE ' , ' mARY SMITH ', ' aLICE JOHNSON ', 'bOB WHITE' ] # Sample input list of customer names with extra spaces and inconsistent capitalization.\n",
    "\n",
    "print(f'Cleaned Customer Names for Database Entry:')\n",
    "\n",
    "for names in customer_names:\n",
    "    print(names.strip().title()) # for each name, trimming strip() the spaces and standardizing title() the capitalization.\n"
   ]
  },
  {
   "cell_type": "code",
   "execution_count": 63,
   "id": "daf16c19-f2cb-4e16-bff2-1c191891c870",
   "metadata": {},
   "outputs": [
    {
     "name": "stdout",
     "output_type": "stream",
     "text": [
      "Forecasted Sales for Next Month: $22333.33\n"
     ]
    }
   ],
   "source": [
    "# Task 19: Simple Sales Forecasting\n",
    "\n",
    "# Main function to demonstrate usage\n",
    "def main():\n",
    "    sales_last_3_months = [20000, 32000, 25000]  # Last 3 months' sales data\n",
    "    print(f'The area of section 1 is {calculate_area(length1, width1)} square meters.')\n",
    "    \n",
    "# Function to calculate the sales forecast\n",
    "\n",
    "def forecast_sales(sales_last_3_months):\n",
    "    return sum(sales_last_3_months) / len(sales_last_3_months)\n",
    "\n",
    "# Main function\n",
    "def main():\n",
    "    sales_last_3_months = [20000, 22000, 25000]  # Last 3 months' sales data\n",
    "    next_month_forecast = forecast_sales(sales_last_3_months)\n",
    "    \n",
    "    print(f'Forecasted Sales for Next Month: ${next_month_forecast:.2f}')\n",
    "\n",
    "# Run the program\n",
    "main()\n"
   ]
  },
  {
   "cell_type": "code",
   "execution_count": 27,
   "id": "51eabe10-8606-4844-9ea9-0f017d1e9481",
   "metadata": {},
   "outputs": [
    {
     "name": "stdout",
     "output_type": "stream",
     "text": [
      "Customer Loyalty Points:\n",
      "\n",
      "Tom Cruise: $249 Purchase, Loyalty Points: 323.7\n",
      "Arnold Schwarzenegger: $600 Purchase, Loyalty Points: 1200.0\n",
      "Trisha Ghoshal: $1000 Purchase, Loyalty Points: 2000.0\n",
      "Amrish Puri: $150 Purchase, Loyalty Points: 195.0\n",
      "Sachin Puri: $200 Purchase, Loyalty Points: 260.0\n"
     ]
    }
   ],
   "source": [
    "# Task 20: Customer Loyalty Points Calculator\n",
    "\n",
    "# Function to calculate loyalty points based on purchase\n",
    "def calculate_loyalty_points(purchase_amount):\n",
    "    if purchase_amount <= 250:\n",
    "        \n",
    "        return purchase_amount * 1.3      # 1x multiplier\n",
    "        \n",
    "    elif 251 <= purchase_amount and purchase_amount <= 599:\n",
    "        \n",
    "        return purchase_amount * 1.5     # 1.5x multiplier\n",
    "    \n",
    "    else:\n",
    "        return purchase_amount * 2.0     # 2x multiplier\n",
    "\n",
    "# List of customers with total purchases\n",
    "customers = {\n",
    "    'Tom Cruise': 249,\n",
    "    'Arnold Schwarzenegger': 600,\n",
    "    'Trisha Ghoshal': 1000,\n",
    "    'Amrish Puri': 150,\n",
    "    'Sachin Puri': 200\n",
    "}\n",
    "\n",
    "# Printing loyalty points for each customer\n",
    "print('Customer Loyalty Points:\\n')\n",
    "\n",
    "for customer, purchase in customers.items():\n",
    "    \n",
    "    print(f'{customer}: ${purchase} Purchase, Loyalty Points: {calculate_loyalty_points(purchase)}')\n"
   ]
  },
  {
   "cell_type": "code",
   "execution_count": null,
   "id": "9df20775-19f2-4ac2-8c60-6173abddf734",
   "metadata": {},
   "outputs": [],
   "source": []
  }
 ],
 "metadata": {
  "kernelspec": {
   "display_name": "Python 3 (ipykernel)",
   "language": "python",
   "name": "python3"
  },
  "language_info": {
   "codemirror_mode": {
    "name": "ipython",
    "version": 3
   },
   "file_extension": ".py",
   "mimetype": "text/x-python",
   "name": "python",
   "nbconvert_exporter": "python",
   "pygments_lexer": "ipython3",
   "version": "3.12.7"
  }
 },
 "nbformat": 4,
 "nbformat_minor": 5
}
